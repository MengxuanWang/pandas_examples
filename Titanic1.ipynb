{
 "cells": [
  {
   "cell_type": "code",
   "execution_count": 1,
   "metadata": {
    "collapsed": false
   },
   "outputs": [],
   "source": [
    "import re \n",
    "import pandas as pd \n",
    "import numpy as np\n",
    "from sklearn.ensemble import RandomForestRegressor\n",
    "from sklearn.svm import SVC"
   ]
  },
  {
   "cell_type": "code",
   "execution_count": 2,
   "metadata": {
    "collapsed": false
   },
   "outputs": [],
   "source": [
    "# Train test\n",
    "train = pd.read_table(\"/Users/mengxuan/Desktop/Titanic/train.csv\", sep=',')\n",
    "test = pd.read_table(\"/Users/mengxuan/Desktop/Titanic/test.csv\", sep=',')\n",
    "test['Survived'] = np.nan\n",
    "train_test = pd.concat([train, test])\n",
    "ids = test['PassengerId'].values"
   ]
  },
  {
   "cell_type": "code",
   "execution_count": 3,
   "metadata": {
    "collapsed": false
   },
   "outputs": [],
   "source": [
    "# Sex\n",
    "train_test['Sex'] = train_test['Sex'].map({'female': 0, 'male': 1}).astype(int)\n",
    "\n",
    "# Fare\n",
    "train_test.loc[train_test.Fare.isnull(), 'Fare'] = np.median(train_test['Fare'].dropna())\n",
    "train_test.loc[train_test.Fare < 7.91, 'Fare'] = 0\n",
    "train_test.loc[(train_test.Fare >= 7.91) & (train_test.Fare < 14.45), 'Fare'] = 1\n",
    "train_test.loc[(train_test.Fare >= 14.45) & (train_test.Fare < 31), 'Fare'] = 2\n",
    "train_test.loc[train_test.Fare >= 31, 'Fare'] = 3\n",
    "train_test['Fare'] = train_test['Fare'].astype(int)\n",
    "\n",
    "# Name\n",
    "def get_title(name):\n",
    "    title_search = re.search(' ([a-zA-Z]+)\\.', name)\n",
    "    if title_search:\n",
    "        return title_search.group(1)\n",
    "    return \"\"\n",
    "train_test['Title'] = train_test['Name'].apply(get_title)\n",
    "train_test['Title'] = train_test['Title'].replace(['Lady', 'Countess','Capt', 'Col',\\\n",
    " \t'Don', 'Dr', 'Major', 'Rev', 'Sir', 'Jonkheer', 'Dona'], 'Rare')\n",
    "train_test['Title'] = train_test['Title'].replace('Mlle', 'Miss')\n",
    "train_test['Title'] = train_test['Title'].replace('Ms', 'Miss')\n",
    "train_test['Title'] = train_test['Title'].replace('Mme', 'Mrs')\n",
    "train_test['Title'] = train_test['Title'].map({'Master': 0, 'Miss': 1, 'Mr': 2, 'Mrs': 3, 'Rare': 4})\n",
    "\n",
    "# Set missing ages\n",
    "age_df = train_test[['Age', 'Fare', 'Parch', 'SibSp', 'Title', 'Pclass']]\n",
    "know_age = age_df[age_df.Age.notnull()]\n",
    "unknow_age = age_df[age_df.Age.isnull()]\n",
    "X = know_age.values[:, 1:]\n",
    "y = know_age.values[:, 0]\n",
    "rtf = RandomForestRegressor(n_estimators=2000, n_jobs=-1)\n",
    "rtf.fit(X, y)\n",
    "predictedAges = rtf.predict(unknow_age.values[:, 1:])\n",
    "train_test.loc[train_test.Age.isnull(), 'Age'] = predictedAges\n",
    "train_test.loc[train_test.Age < 16, 'Age'] = 0\n",
    "train_test.loc[(train_test.Age >= 16) & (train_test.Age < 32), 'Age'] = 1\n",
    "train_test.loc[(train_test.Age >= 32) & (train_test.Age < 48), 'Age'] = 2\n",
    "train_test.loc[(train_test.Age >= 48) & (train_test.Age < 64), 'Age'] = 3\n",
    "train_test.loc[train_test.Age >= 64, 'Age'] = 4\n",
    "train_test['Age'] = train_test['Age'].astype(int)"
   ]
  },
  {
   "cell_type": "code",
   "execution_count": 4,
   "metadata": {
    "collapsed": false
   },
   "outputs": [
    {
     "name": "stdout",
     "output_type": "stream",
     "text": [
      "   Age  Fare  Parch  Pclass  Sex  SibSp  Survived  Title\n",
      "0    1     0      0       3    1      1         0      2\n",
      "1    2     3      0       1    0      1         1      3\n",
      "2    1     1      0       3    0      0         1      1\n",
      "3    2     3      0       1    0      1         1      3\n",
      "4    2     1      0       3    1      0         0      2\n"
     ]
    },
    {
     "name": "stderr",
     "output_type": "stream",
     "text": [
      "-c:7: SettingWithCopyWarning: \n",
      "A value is trying to be set on a copy of a slice from a DataFrame.\n",
      "Try using .loc[row_indexer,col_indexer] = value instead\n",
      "\n",
      "See the caveats in the documentation: http://pandas.pydata.org/pandas-docs/stable/indexing.html#indexing-view-versus-copy\n"
     ]
    }
   ],
   "source": [
    "# Feature Selection \n",
    "features = ['Age', 'Fare', 'Parch', 'SibSp', 'Title', 'Pclass', 'Sex', 'Survived']\n",
    "drop_features = [f for f in train_test.columns if f not in features]\n",
    "\n",
    "train_test = train_test.drop(drop_features, axis=1)\n",
    "train = train_test[train_test.Survived.notnull()]\n",
    "train['Survived'] = train['Survived'].astype(int)\n",
    "test = train_test[train_test.Survived.isnull()]\n",
    "print(train.head())"
   ]
  },
  {
   "cell_type": "code",
   "execution_count": 5,
   "metadata": {
    "collapsed": false
   },
   "outputs": [],
   "source": [
    "# Predict\n",
    "target = 'Survived'\n",
    "predictor = [c for c in train.columns if c not in [target]]\n",
    "\n",
    "clf = SVC(probability=True)\n",
    "\n",
    "\n",
    "classifiers = [\n",
    "    SVC(probability=True),\n",
    "    #DecisionTreeClassifier(),\n",
    "    RandomForestClassifier(),\n",
    "    #AdaBoostClassifier(),\n",
    "    GradientBoostingClassifier()]\n",
    "\n",
    "target = 'Survived'\n",
    "predictor = [c for c in train.columns if c not in [target]]\n",
    "\n",
    "results = []\n",
    "for clf in classifiers:\n",
    "    clf.fit(train[predictor], train[target])\n",
    "    result = clf.predict(test[predictor])\n",
    "    results.append(result)\n",
    "\n",
    "results = np.array(results)\n",
    "rsum = np.sum(results, axis=0)\n",
    "result = map(lambda x: 1 if x >= 2 else 0, rsum)\n",
    "result = list(map(int, result))\n",
    "test_result = pd.DataFrame(columns=['PassengerId', 'Survived'])\n",
    "test_result['PassengerId'] = ids\n",
    "test_result['Survived'] = np.array(result)\n",
    "test_result.to_csv('/Users/mengxuan/Desktop/Titanic/result.csv', index=False)"
   ]
  },
  {
   "cell_type": "code",
   "execution_count": null,
   "metadata": {
    "collapsed": false
   },
   "outputs": [],
   "source": []
  },
  {
   "cell_type": "code",
   "execution_count": null,
   "metadata": {
    "collapsed": true
   },
   "outputs": [],
   "source": []
  }
 ],
 "metadata": {
  "kernelspec": {
   "display_name": "IPython (Python 3)",
   "language": "python",
   "name": "python3"
  },
  "language_info": {
   "codemirror_mode": {
    "name": "ipython",
    "version": 3
   },
   "file_extension": ".py",
   "mimetype": "text/x-python",
   "name": "python",
   "nbconvert_exporter": "python",
   "pygments_lexer": "ipython3",
   "version": "3.4.4"
  },
  "widgets": {
   "state": {},
   "version": "2.0.10"
  }
 },
 "nbformat": 4,
 "nbformat_minor": 2
}
